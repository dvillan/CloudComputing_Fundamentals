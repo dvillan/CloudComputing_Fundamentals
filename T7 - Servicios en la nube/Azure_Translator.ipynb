{
  "nbformat": 4,
  "nbformat_minor": 0,
  "metadata": {
    "colab": {
      "provenance": []
    },
    "kernelspec": {
      "name": "python3",
      "display_name": "Python 3"
    },
    "language_info": {
      "name": "python"
    }
  },
  "cells": [
    {
      "cell_type": "markdown",
      "source": [
        "# Azure Translator"
      ],
      "metadata": {
        "id": "MeJarClS87cc"
      }
    },
    {
      "cell_type": "code",
      "execution_count": 24,
      "metadata": {
        "id": "d4ZhjmK0GC0h"
      },
      "outputs": [],
      "source": [
        "# Importamos las librerias necesarias para la implementacion de la API\n",
        "import json\n",
        "import os\n",
        "import requests\n",
        "import uuid"
      ]
    },
    {
      "cell_type": "code",
      "source": [
        "# Definimos el endpoint, este sera el punto a donde nuestra aplicacion enviara la solicitud\n",
        "endpoint_url = \"https://api.cognitive.microsofttranslator.com\" + \"/translate/\""
      ],
      "metadata": {
        "id": "ZPL0Xa3CGFCD"
      },
      "execution_count": 23,
      "outputs": []
    },
    {
      "cell_type": "code",
      "source": [
        "# Definimos la llave de acceso a la API, esta se encuentra en el servicio de Azure\n",
        "api_key = \"FIVsBSN8INZGFpPkvLKeAaDRwBfvu2mGzh0LU9y7BxGQV5j6CVetJQQJ99BCACYeBjFXJ3w3AAAbACOGqrIT\""
      ],
      "metadata": {
        "id": "oCbCyxe4GcWY"
      },
      "execution_count": 6,
      "outputs": []
    },
    {
      "cell_type": "code",
      "source": [
        "# Definir la locacion es importante, sin esta, la solicitud sera denegada\n",
        "location = \"eastus\""
      ],
      "metadata": {
        "id": "3GsiVQXr76sL"
      },
      "execution_count": 7,
      "outputs": []
    },
    {
      "cell_type": "code",
      "source": [
        "# Definimos un diccionario llamado \"headers\", el cual contiene la configuracion de la solicitud\n",
        "headers = {'Ocp-Apim-Subscription-Key': api_key,\n",
        "           'Content-type': 'application/json',\n",
        "           'Ocp-Apim-Subscription-Region': location,\n",
        "           'X-ClientTraceId': str(uuid.uuid4())}"
      ],
      "metadata": {
        "id": "yP7mVLJoGldX"
      },
      "execution_count": 22,
      "outputs": []
    },
    {
      "cell_type": "code",
      "source": [
        "# Escribimos el texto que queremos traducir\n",
        "body = [{\n",
        "    'text': \"Hello, this is a test for Cloud Computing subject\"\n",
        "}]\n"
      ],
      "metadata": {
        "id": "HsEQUFrLK6UF"
      },
      "execution_count": 9,
      "outputs": []
    },
    {
      "cell_type": "code",
      "source": [
        "# Los parametros definen la configuracion del servicio,\n",
        "params = {\n",
        "    'api-version': '3.0',\n",
        "    'from': 'en',\n",
        "    'to': ['es', 'fr']\n",
        "}"
      ],
      "metadata": {
        "id": "SxeLDjeMJNme"
      },
      "execution_count": 18,
      "outputs": []
    },
    {
      "cell_type": "code",
      "source": [
        "# A traves de la libreria requests, hacemos una solicitud post\n",
        "request = requests.post(endpoint_url, params=params, headers=headers, json=body)"
      ],
      "metadata": {
        "id": "r8GMhwCtJ7hf"
      },
      "execution_count": 19,
      "outputs": []
    },
    {
      "cell_type": "code",
      "source": [
        "# Guardamos la respuesta recibida en formato json en una variable llamada response\n",
        "response = request.json()"
      ],
      "metadata": {
        "id": "eCCCEt3UKW4u"
      },
      "execution_count": 20,
      "outputs": []
    },
    {
      "cell_type": "code",
      "source": [
        "# Imprimimos la respuesta recibida\n",
        "print(json.dumps(response, sort_keys=True, ensure_ascii=False, indent=4, separators=(',', ': ')))"
      ],
      "metadata": {
        "colab": {
          "base_uri": "https://localhost:8080/"
        },
        "id": "E3tzEJeDKcPB",
        "outputId": "c4428855-7aec-476e-97a9-004ca0d7457d"
      },
      "execution_count": 21,
      "outputs": [
        {
          "output_type": "stream",
          "name": "stdout",
          "text": [
            "[\n",
            "    {\n",
            "        \"translations\": [\n",
            "            {\n",
            "                \"text\": \"Hola, esta es una prueba para el tema de Computación en la Nube\",\n",
            "                \"to\": \"es\"\n",
            "            },\n",
            "            {\n",
            "                \"text\": \"Bonjour, il s’agit d’un test pour le sujet du Cloud Computing\",\n",
            "                \"to\": \"fr\"\n",
            "            }\n",
            "        ]\n",
            "    }\n",
            "]\n"
          ]
        }
      ]
    }
  ]
}