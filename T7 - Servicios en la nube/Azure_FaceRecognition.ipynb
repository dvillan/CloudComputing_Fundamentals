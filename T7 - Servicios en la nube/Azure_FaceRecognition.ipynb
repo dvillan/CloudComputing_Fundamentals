{
  "nbformat": 4,
  "nbformat_minor": 0,
  "metadata": {
    "colab": {
      "provenance": []
    },
    "kernelspec": {
      "name": "python3",
      "display_name": "Python 3"
    },
    "language_info": {
      "name": "python"
    }
  },
  "cells": [
    {
      "cell_type": "markdown",
      "source": [
        "# Azure Face Recognition"
      ],
      "metadata": {
        "id": "vuFvho6H8wJZ"
      }
    },
    {
      "cell_type": "code",
      "execution_count": 2,
      "metadata": {
        "id": "kZ59U49o1IG4"
      },
      "outputs": [],
      "source": [
        "# Importamos las librerias necesarias para la implementacion de la API\n",
        "import json\n",
        "import os\n",
        "import requests"
      ]
    },
    {
      "cell_type": "code",
      "source": [
        "# Definimos la llave de acceso a la API, esta se encuentra en el servicio de Azure\n",
        "api_key = '9q07TLvOKpTmCPW41wFUvBVYSFI90BDn8l5U88CRuGJuYx9v18HyJQQJ99BCACYeBjFXJ3w3AAAEACOG5aou'"
      ],
      "metadata": {
        "id": "jubAyhjS14mb"
      },
      "execution_count": 12,
      "outputs": []
    },
    {
      "cell_type": "code",
      "source": [
        "# Definimos el endpoint, este sera el punto a donde nuestra aplicacion enviara la solicitud\n",
        "endpoint_url = \"https://fr-devm.cognitiveservices.azure.com\" + \"/face/v1.0/detect/\""
      ],
      "metadata": {
        "id": "BPdVIEEs2DfV"
      },
      "execution_count": 13,
      "outputs": []
    },
    {
      "cell_type": "code",
      "source": [
        "# Definimos las rutas en donde se encuentran las imagenes a reconocer\n",
        "image_url = \"https://github.com/ecendejas/imgMNA/blob/main/faces.jpg?raw=true\"\n",
        "image_url2 = \"https://github.com/dvillan/CloudComputing_Fundamentals/blob/main/T7%20-%20Servicios%20en%20la%20nube/faces.jpg?raw=true\""
      ],
      "metadata": {
        "id": "i1qvs-3e2N_x"
      },
      "execution_count": 14,
      "outputs": []
    },
    {
      "cell_type": "code",
      "source": [
        "# Definimos un diccionario llamado \"headers\", el cual contiene la configuracion de la solicitud\n",
        "headers = {'Ocp-Apim-Subscription-Key': api_key}"
      ],
      "metadata": {
        "id": "jN_lz7N52wNF"
      },
      "execution_count": 15,
      "outputs": []
    },
    {
      "cell_type": "code",
      "source": [
        "# Los parametros definen la configuracion del servicio\n",
        "params = {\n",
        "    \"returnFaceId\": \"false\",\n",
        "    \"returnFaceLandmarks\": \"false\",\n",
        "}"
      ],
      "metadata": {
        "id": "g4FfSHtM2791"
      },
      "execution_count": 16,
      "outputs": []
    },
    {
      "cell_type": "code",
      "source": [
        "# Realizamos la solicitud post a traves de la libreria requests\n",
        "response = requests.post(endpoint_url, params=params, headers=headers, json={\"url\": image_url})\n",
        "response2 = requests.post(endpoint_url, params=params, headers=headers, json={\"url\": image_url2})"
      ],
      "metadata": {
        "id": "rw6dFN4v3M3p"
      },
      "execution_count": 17,
      "outputs": []
    },
    {
      "cell_type": "code",
      "source": [
        "# Imprimimos la primera respuesta\n",
        "print(response.json())"
      ],
      "metadata": {
        "colab": {
          "base_uri": "https://localhost:8080/"
        },
        "id": "1kgw6cXp3Zoy",
        "outputId": "b9968896-7d40-40ac-fe85-7c93729f2c47"
      },
      "execution_count": 18,
      "outputs": [
        {
          "output_type": "stream",
          "name": "stdout",
          "text": [
            "[{'faceRectangle': {'top': 159, 'left': 118, 'width': 94, 'height': 94}}, {'faceRectangle': {'top': 111, 'left': 492, 'width': 90, 'height': 90}}, {'faceRectangle': {'top': 153, 'left': 18, 'width': 84, 'height': 84}}, {'faceRectangle': {'top': 166, 'left': 386, 'width': 81, 'height': 81}}, {'faceRectangle': {'top': 158, 'left': 235, 'width': 76, 'height': 76}}, {'faceRectangle': {'top': 163, 'left': 323, 'width': 68, 'height': 68}}]\n"
          ]
        }
      ]
    },
    {
      "cell_type": "code",
      "source": [
        "# Imprimimos la segunda respuesta\n",
        "print(response2.json())"
      ],
      "metadata": {
        "colab": {
          "base_uri": "https://localhost:8080/"
        },
        "id": "N17udWh19nYO",
        "outputId": "15d310f5-e64a-49db-bc9f-d871de24c5eb"
      },
      "execution_count": 21,
      "outputs": [
        {
          "output_type": "stream",
          "name": "stdout",
          "text": [
            "[{'faceRectangle': {'top': 828, 'left': 52, 'width': 86, 'height': 86}}, {'faceRectangle': {'top': 450, 'left': 457, 'width': 84, 'height': 84}}, {'faceRectangle': {'top': 834, 'left': 837, 'width': 83, 'height': 83}}, {'faceRectangle': {'top': 281, 'left': 654, 'width': 83, 'height': 83}}, {'faceRectangle': {'top': 661, 'left': 654, 'width': 83, 'height': 83}}, {'faceRectangle': {'top': 73, 'left': 658, 'width': 80, 'height': 80}}, {'faceRectangle': {'top': 246, 'left': 64, 'width': 80, 'height': 80}}, {'faceRectangle': {'top': 843, 'left': 460, 'width': 79, 'height': 79}}, {'faceRectangle': {'top': 71, 'left': 456, 'width': 79, 'height': 79}}, {'faceRectangle': {'top': 65, 'left': 833, 'width': 78, 'height': 78}}, {'faceRectangle': {'top': 651, 'left': 850, 'width': 77, 'height': 77}}, {'faceRectangle': {'top': 853, 'left': 650, 'width': 77, 'height': 77}}, {'faceRectangle': {'top': 61, 'left': 268, 'width': 77, 'height': 77}}, {'faceRectangle': {'top': 441, 'left': 71, 'width': 76, 'height': 76}}, {'faceRectangle': {'top': 462, 'left': 846, 'width': 76, 'height': 76}}, {'faceRectangle': {'top': 267, 'left': 842, 'width': 75, 'height': 75}}, {'faceRectangle': {'top': 465, 'left': 661, 'width': 74, 'height': 74}}, {'faceRectangle': {'top': 471, 'left': 268, 'width': 73, 'height': 73}}, {'faceRectangle': {'top': 648, 'left': 69, 'width': 73, 'height': 73}}, {'faceRectangle': {'top': 266, 'left': 459, 'width': 72, 'height': 72}}, {'faceRectangle': {'top': 265, 'left': 267, 'width': 72, 'height': 72}}, {'faceRectangle': {'top': 847, 'left': 264, 'width': 72, 'height': 72}}, {'faceRectangle': {'top': 657, 'left': 450, 'width': 68, 'height': 68}}, {'faceRectangle': {'top': 84, 'left': 68, 'width': 67, 'height': 67}}]\n"
          ]
        }
      ]
    }
  ]
}